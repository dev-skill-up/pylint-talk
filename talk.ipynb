{
 "cells": [
  {
   "cell_type": "markdown",
   "metadata": {},
   "source": [
    "```{=latex}\n",
    "\\usepackage{hyperref}\n",
    "\\usepackage{graphicx}\n",
    "\\usepackage{listings}\n",
    "\\usepackage{textcomp}\n",
    "\\usepackage{fancyvrb}\n",
    "\n",
    "\\newcommand{\\passthrough}[1]{\\lstset{mathescape=false}#1\\lstset{mathescape=true}}\n",
    "\\newcommand{\\tightlist}{}\n",
    "```"
   ]
  },
  {
   "cell_type": "markdown",
   "metadata": {},
   "source": [
    "```{=latex}\n",
    "\\title{PyLint: The Good, The Bad, and the Ugly}\n",
    "\\author{Moshe Zadka -- https://cobordism.com}\n",
    "\\date{}\n",
    "\n",
    "\\begin{document}\n",
    "\\begin{titlepage}\n",
    "\\maketitle\n",
    "\\end{titlepage}\n",
    "\n",
    "\\frame{\\titlepage}\n",
    "```"
   ]
  },
  {
   "cell_type": "markdown",
   "metadata": {
    "tags": []
   },
   "source": [
    "```{=latex}\n",
    "\\begin{frame}\n",
    "\\frametitle{Acknowledgement of Country}\n",
    "\n",
    "Belmont (in San Francisco Bay Area Peninsula)\n",
    "\n",
    "Ancestral homeland of the Ramaytush Ohlone people\n",
    "\n",
    "\\end{frame}\n",
    "```"
   ]
  },
  {
   "cell_type": "markdown",
   "metadata": {
    "tags": []
   },
   "source": [
    "I live in Belmont,\n",
    "in the San Francisco Bay Area Peninsula.\n",
    "I wish to acknowledge it as the\n",
    "ancestral homeland\n",
    "of the\n",
    "Ramaytush Ohlone people."
   ]
  },
  {
   "cell_type": "markdown",
   "metadata": {},
   "source": [
    "## The Good (3m)\n",
    "\n",
    "Redefine function (example: test)\n",
    "\n",
    "## The Bad (3m)\n",
    "\n",
    "Find some useless check\n",
    "\n",
    "## The Ugly (3m)\n",
    "\n",
    "Show how easy it is to add a check\n",
    "\n",
    "## Summary (3m)"
   ]
  },
  {
   "cell_type": "markdown",
   "metadata": {},
   "source": [
    "\n",
    "### Pin\n",
    "\n",
    "```yaml\n",
    "# pyproject.toml\n",
    "\n",
    "[project.optional-dependencies]\n",
    "pylint = [\"pylint\"]\n",
    "```"
   ]
  },
  {
   "cell_type": "markdown",
   "metadata": {},
   "source": [
    "```python\n",
    "# noxfile.py\n",
    "...\n",
    "@nox.session(python=VERSIONS[-1])\n",
    "def refresh_deps(session):\n",
    "    \"\"\"Refresh the requirements-*.txt files\"\"\"\n",
    "    session.install(\"pip-tools\")\n",
    "    for deps in [..., \"pylint\"]:\n",
    "        session.run(\n",
    "            \"pip-compile\",\n",
    "            \"--extra\",\n",
    "            deps,\n",
    "            \"pyproject.toml\",\n",
    "            \"--output-file\",\n",
    "            f\"requirements-{deps}.txt\",\n",
    "        )\n",
    "```"
   ]
  },
  {
   "cell_type": "markdown",
   "metadata": {},
   "source": [
    "## Default deny"
   ]
  },
  {
   "cell_type": "markdown",
   "metadata": {},
   "source": [
    "```python\n",
    "# noxfile.py\n",
    "...\n",
    "@nox.session(python=\"3.10\")\n",
    "def lint(session):\n",
    "    files = [\"src/\", \"noxfile.py\"]\n",
    "    session.install(\"-r\", \"requirements-pylint.txt\")\n",
    "    session.install(\"-e\", \".\")\n",
    "    session.run(\n",
    "        \"pylint\",\n",
    "        \"--disable=all\",\n",
    "        *(f\"--enable={checker}\" for checker in checkers)\n",
    "        \"src\",\n",
    "    )\n",
    "```"
   ]
  },
  {
   "cell_type": "markdown",
   "metadata": {},
   "source": [
    "## Protect\n",
    "\n",
    "```python\n",
    "checkers = [\n",
    "    \"missing-class-docstring\",\n",
    "    \"missing-function-docstring\",\n",
    "    \"missing-module-docstring\",\n",
    "    \"function-redefined\",\n",
    "]\n",
    "```"
   ]
  },
  {
   "cell_type": "markdown",
   "metadata": {},
   "source": [
    "```{=latex}\n",
    "\\end{document}\n",
    "```"
   ]
  }
 ],
 "metadata": {
  "kernelspec": {
   "display_name": "jupyter-devops",
   "language": "python",
   "name": "jupyter-devops-venv"
  },
  "language_info": {
   "codemirror_mode": {
    "name": "ipython",
    "version": 3
   },
   "file_extension": ".py",
   "mimetype": "text/x-python",
   "name": "python",
   "nbconvert_exporter": "python",
   "pygments_lexer": "ipython3",
   "version": "3.10.5"
  },
  "toc-autonumbering": false
 },
 "nbformat": 4,
 "nbformat_minor": 4
}
