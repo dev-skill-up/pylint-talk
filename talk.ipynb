{
 "cells": [
  {
   "cell_type": "markdown",
   "metadata": {},
   "source": [
    "```{=latex}\n",
    "\\usepackage{hyperref}\n",
    "\\usepackage{graphicx}\n",
    "\\usepackage{listings}\n",
    "\\usepackage{textcomp}\n",
    "\\usepackage{fancyvrb}\n",
    "\n",
    "\\newcommand{\\passthrough}[1]{\\lstset{mathescape=false}#1\\lstset{mathescape=true}}\n",
    "\\newcommand{\\tightlist}{}\n",
    "```"
   ]
  },
  {
   "cell_type": "markdown",
   "metadata": {},
   "source": [
    "```{=latex}\n",
    "\\title{PyLint: The Good, The Bad, and the Ugly}\n",
    "\\author{Moshe Zadka -- https://cobordism.com}\n",
    "\\date{}\n",
    "\n",
    "\\begin{document}\n",
    "\\begin{titlepage}\n",
    "\\maketitle\n",
    "\\end{titlepage}\n",
    "\n",
    "\\frame{\\titlepage}\n",
    "```"
   ]
  },
  {
   "cell_type": "markdown",
   "metadata": {
    "tags": []
   },
   "source": [
    "```{=latex}\n",
    "\\begin{frame}\n",
    "\\frametitle{Acknowledgement of Country}\n",
    "\n",
    "Belmont (in San Francisco Bay Area Peninsula)\n",
    "\n",
    "Ancestral homeland of the Ramaytush Ohlone people\n",
    "\n",
    "\\end{frame}\n",
    "```"
   ]
  },
  {
   "cell_type": "markdown",
   "metadata": {
    "tags": []
   },
   "source": [
    "I live in Belmont,\n",
    "in the San Francisco Bay Area Peninsula.\n",
    "I wish to acknowledge it as the\n",
    "ancestral homeland\n",
    "of the\n",
    "Ramaytush Ohlone people."
   ]
  },
  {
   "cell_type": "markdown",
   "metadata": {},
   "source": [
    "## The Good (3m)"
   ]
  },
  {
   "cell_type": "markdown",
   "metadata": {
    "tags": []
   },
   "source": [
    "### Redefine function"
   ]
  },
  {
   "cell_type": "markdown",
   "metadata": {
    "tags": []
   },
   "source": [
    "```{=latex}\n",
    "\\begin{frame}[fragile]\n",
    "\\frametitle{Redefining functions}\n",
    "```"
   ]
  },
  {
   "cell_type": "code",
   "execution_count": 16,
   "metadata": {
    "tags": []
   },
   "outputs": [],
   "source": [
    "def test_add_small():\n",
    "    # Math, am I right?\n",
    "    assert 1 + 1 == 3\n",
    "    \n",
    "def test_add_large():\n",
    "    assert 5 + 6 == 11\n",
    "    \n",
    "def test_add_small():\n",
    "    assert 1 + 10 == 11"
   ]
  },
  {
   "cell_type": "markdown",
   "metadata": {
    "tags": []
   },
   "source": [
    "\n",
    "```{=latex}\n",
    "\\end{frame}\n",
    "```"
   ]
  },
  {
   "cell_type": "markdown",
   "metadata": {
    "tags": []
   },
   "source": [
    "### Test works"
   ]
  },
  {
   "cell_type": "markdown",
   "metadata": {
    "tags": []
   },
   "source": [
    "```{=latex}\n",
    "\\begin{frame}[verbatim]\n",
    "\\frametitle{Test works!}\n",
    "\n",
    "\\begin{lstlisting}\n",
    "collected 2 items                                                                         \n",
    "\n",
    "test.py .. \n",
    "2 passed \n",
    "\\end{lstlisting}\n",
    "```"
   ]
  },
  {
   "cell_type": "markdown",
   "metadata": {
    "tags": []
   },
   "source": [
    "\n",
    "```{=latex}\n",
    "\\end{frame}\n",
    "```"
   ]
  },
  {
   "cell_type": "markdown",
   "metadata": {
    "tags": []
   },
   "source": [
    "### Pylint finds it"
   ]
  },
  {
   "cell_type": "markdown",
   "metadata": {
    "tags": []
   },
   "source": [
    "```{=latex}\n",
    "\\begin{frame}[verbatim]\n",
    "\\frametitle{PyLint: The Good}\n",
    "\n",
    "\\begin{lstlisting}\n",
    "test.py:8:0: E0102: function already defined line 1\n",
    "     (function-redefined)\n",
    "\\end{lstlisting}\n",
    "```"
   ]
  },
  {
   "cell_type": "markdown",
   "metadata": {},
   "source": [
    "## The Bad"
   ]
  },
  {
   "cell_type": "markdown",
   "metadata": {},
   "source": [
    "### Reasonable code"
   ]
  },
  {
   "cell_type": "markdown",
   "metadata": {
    "tags": []
   },
   "source": [
    "```{=latex}\n",
    "\\begin{frame}[fragile]\n",
    "\\frametitle{Reasonable code}\n",
    "```"
   ]
  },
  {
   "cell_type": "code",
   "execution_count": 17,
   "metadata": {},
   "outputs": [],
   "source": [
    "\"\"\"Inventory abstractions\"\"\"\n",
    "\n",
    "import attrs\n",
    "\n",
    "@attrs.define\n",
    "class Laptop:\n",
    "    \"\"\"A laptop\"\"\"\n",
    "    ident: str\n",
    "    cpu: str"
   ]
  },
  {
   "cell_type": "markdown",
   "metadata": {
    "tags": []
   },
   "source": [
    "\n",
    "```{=latex}\n",
    "\\end{frame}\n",
    "```"
   ]
  },
  {
   "cell_type": "markdown",
   "metadata": {},
   "source": [
    "### PyLint: The Bad\n",
    "\n",
    "```{=latex}\n",
    "\\begin{frame}[verbatim]\n",
    "\\frametitle{PyLint: The Ugly}\n",
    "\n",
    "\\begin{lstlisting}\n",
    "$ pylint laptop.py | sed -n '/^laptop/s/[^ ]*: //p'\n",
    "R0903: Too few public methods (0/2) (too-few-public-methods)\n",
    "\\end{lstlisting}\n",
    "\n",
    "\\end{frame}\n",
    "```"
   ]
  },
  {
   "cell_type": "markdown",
   "metadata": {},
   "source": [
    "## The Ugly (3m)"
   ]
  },
  {
   "cell_type": "markdown",
   "metadata": {
    "tags": []
   },
   "source": [
    "```{=latex}\n",
    "\\begin{frame}[verbatim]\n",
    "\\frametitle{PyLint: The Ugly}\n",
    "\n",
    "\"People will just disable the whole check if it's too picky\"\n",
    "\n",
    "PyLint issue 6987, July 3rd, 2022\n",
    "\n",
    "\\end{frame}\n",
    "```"
   ]
  },
  {
   "cell_type": "markdown",
   "metadata": {},
   "source": [
    "## Summary (3m)"
   ]
  },
  {
   "cell_type": "markdown",
   "metadata": {
    "tags": []
   },
   "source": [
    "### Pin\n",
    "\n",
    "\n",
    "```{=latex}\n",
    "\\begin{frame}[verbatim]\n",
    "\\frametitle{Pin PyLint}\n",
    "\n",
    "\\begin{lstlisting}\n",
    "# pyproject.toml\n",
    "\n",
    "[project.optional-dependencies]\n",
    "pylint = [\"pylint\"]\n",
    "\\end{lstlisting}\n",
    "\n",
    "\\end{frame}\n",
    "```"
   ]
  },
  {
   "cell_type": "code",
   "execution_count": 18,
   "metadata": {
    "tags": [
     "no_markdown"
    ]
   },
   "outputs": [],
   "source": [
    "from unittest import mock\n",
    "\n",
    "VERSIONS = nox = mock.MagicMock()"
   ]
  },
  {
   "cell_type": "markdown",
   "metadata": {
    "tags": []
   },
   "source": [
    "```{=latex}\n",
    "\\begin{frame}[verbatim]\n",
    "\\frametitle{Pin PyLint}\n",
    "```"
   ]
  },
  {
   "cell_type": "code",
   "execution_count": 19,
   "metadata": {},
   "outputs": [],
   "source": [
    "# noxfile.py\n",
    "...\n",
    "@nox.session(python=VERSIONS[-1])\n",
    "def refresh_deps(session):\n",
    "    \"\"\"Refresh the requirements-*.txt files\"\"\"\n",
    "    session.install(\"pip-tools\")\n",
    "    for deps in [..., \"pylint\"]:\n",
    "        session.run(\n",
    "            \"pip-compile\",\n",
    "            \"--extra\",\n",
    "            deps,\n",
    "            \"pyproject.toml\",\n",
    "            \"--output-file\",\n",
    "            f\"requirements-{deps}.txt\",\n",
    "        )"
   ]
  },
  {
   "cell_type": "markdown",
   "metadata": {
    "tags": []
   },
   "source": [
    "```{=latex}\n",
    "\\end{frame}\n",
    "```"
   ]
  },
  {
   "cell_type": "markdown",
   "metadata": {},
   "source": [
    "## Default deny"
   ]
  },
  {
   "cell_type": "markdown",
   "metadata": {
    "tags": []
   },
   "source": [
    "```{=latex}\n",
    "\\begin{frame}[verbatim]\n",
    "\\frametitle{Default Deny}\n",
    "```"
   ]
  },
  {
   "cell_type": "markdown",
   "metadata": {},
   "source": [
    "```python\n",
    "# noxfile.py\n",
    "...\n",
    "@nox.session(python=\"3.10\")\n",
    "def lint(session):\n",
    "    files = [\"src/\", \"noxfile.py\"]\n",
    "    session.install(\"-r\", \"requirements-pylint.txt\")\n",
    "    session.install(\"-e\", \".\")\n",
    "    session.run(\n",
    "        \"pylint\",\n",
    "        \"--disable=all\",\n",
    "        *(f\"--enable={checker}\" for checker in checkers)\n",
    "        \"src\",\n",
    "    )\n",
    "```"
   ]
  },
  {
   "cell_type": "markdown",
   "metadata": {
    "tags": []
   },
   "source": [
    "```{=latex}\n",
    "\\end{frame}\n",
    "```"
   ]
  },
  {
   "cell_type": "markdown",
   "metadata": {
    "tags": []
   },
   "source": [
    "### A Few of My Favorite Things\n",
    "\n",
    "```{=latex}\n",
    "\\begin{frame}[verbatim]\n",
    "\\frametitle{A few of my favorite things}\n",
    "```"
   ]
  },
  {
   "cell_type": "code",
   "execution_count": 20,
   "metadata": {},
   "outputs": [],
   "source": [
    "checkers = [\n",
    "    \"missing-class-docstring\",\n",
    "    \"missing-function-docstring\",\n",
    "    \"missing-module-docstring\",\n",
    "    \"function-redefined\",\n",
    "]\n"
   ]
  },
  {
   "cell_type": "markdown",
   "metadata": {
    "tags": []
   },
   "source": [
    "```{=latex}\n",
    "\\end{frame}\n",
    "```"
   ]
  },
  {
   "cell_type": "markdown",
   "metadata": {},
   "source": [
    "```{=latex}\n",
    "\\end{document}\n",
    "```"
   ]
  },
  {
   "cell_type": "markdown",
   "metadata": {
    "tags": []
   },
   "source": [
    "```{=latex}\n",
    "\\begin{frame}\n",
    "\\frametitle{PyLint}\n",
    "\n",
    "\\begin{itemize}\n",
    "\\item Keep the good: \\pause\n",
    "      CI \\pause\n",
    "      Checkers \\pause\n",
    "\\item Lose the bad:\n",
    "      \\pause (default deny)\n",
    "      \\pause\n",
    "\\item Avoid the ugly: \\pause\n",
    "      pin\n",
    "\\end{itemize}\n",
    "\n",
    "\\end{frame}\n",
    "```"
   ]
  }
 ],
 "metadata": {
  "kernelspec": {
   "display_name": "jupyter-devops",
   "language": "python",
   "name": "jupyter-devops-venv"
  },
  "language_info": {
   "codemirror_mode": {
    "name": "ipython",
    "version": 3
   },
   "file_extension": ".py",
   "mimetype": "text/x-python",
   "name": "python",
   "nbconvert_exporter": "python",
   "pygments_lexer": "ipython3",
   "version": "3.10.5"
  },
  "toc-autonumbering": false
 },
 "nbformat": 4,
 "nbformat_minor": 4
}
