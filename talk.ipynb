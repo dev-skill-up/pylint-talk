{
 "cells": [
  {
   "cell_type": "markdown",
   "metadata": {},
   "source": [
    "```{=latex}\n",
    "\\usepackage{hyperref}\n",
    "\\usepackage{graphicx}\n",
    "\\usepackage{listings}\n",
    "\\usepackage{textcomp}\n",
    "\\usepackage{fancyvrb}\n",
    "\n",
    "\\newcommand{\\passthrough}[1]{\\lstset{mathescape=false}#1\\lstset{mathescape=true}}\n",
    "\\newcommand{\\tightlist}{}\n",
    "```"
   ]
  },
  {
   "cell_type": "markdown",
   "metadata": {},
   "source": [
    "```{=latex}\n",
    "\\title{PyLint: The Good, The Bad, and the Ugly}\n",
    "\\author{Moshe Zadka -- https://cobordism.com}\n",
    "\\date{}\n",
    "\n",
    "\\begin{document}\n",
    "\\begin{titlepage}\n",
    "\\maketitle\n",
    "\\end{titlepage}\n",
    "\n",
    "\\frame{\\titlepage}\n",
    "```"
   ]
  },
  {
   "cell_type": "markdown",
   "metadata": {
    "tags": []
   },
   "source": [
    "```{=latex}\n",
    "\\begin{frame}\n",
    "\\frametitle{Acknowledgement of Country}\n",
    "\n",
    "Belmont (in San Francisco Bay Area Peninsula)\n",
    "\n",
    "Ancestral homeland of the Ramaytush Ohlone people\n",
    "\n",
    "\\end{frame}\n",
    "```"
   ]
  },
  {
   "cell_type": "markdown",
   "metadata": {
    "tags": []
   },
   "source": [
    "I live in Belmont,\n",
    "in the San Francisco Bay Area Peninsula.\n",
    "I wish to acknowledge it as the\n",
    "ancestral homeland\n",
    "of the\n",
    "Ramaytush Ohlone people."
   ]
  },
  {
   "cell_type": "markdown",
   "metadata": {
    "tags": []
   },
   "source": [
    "```{=latex}\n",
    "\\begin{frame}[fragile]\n",
    "\\frametitle{Lint}\n",
    "\n",
    "\\pause\n",
    "Find problems\n",
    "\n",
    "\\pause\n",
    "in code\n",
    "\n",
    "\\pause\n",
    "without running it\n",
    "\n",
    "\\end{frame}\n",
    "```"
   ]
  },
  {
   "cell_type": "markdown",
   "metadata": {
    "tags": []
   },
   "source": [
    "```{=latex}\n",
    "\\begin{frame}[fragile]\n",
    "\\frametitle{Linters}\n",
    "\n",
    "\\pause\n",
    "\n",
    "Black: Can fix any problem it finds!\n",
    "\n",
    "\\pause\n",
    "\n",
    "Flake8: Best practices + plugins\n",
    "\n",
    "\\pause\n",
    "\n",
    "You are probably already using them\n",
    "\n",
    "\\end{frame}\n",
    "```"
   ]
  },
  {
   "cell_type": "markdown",
   "metadata": {
    "tags": []
   },
   "source": [
    "```{=latex}\n",
    "\\begin{frame}[fragile]\n",
    "\\frametitle{So why PyLint?}\n",
    "\n",
    "\\pause\n",
    "\n",
    "What does it give you?\n",
    "\n",
    "\\end{frame}\n",
    "```"
   ]
  },
  {
   "cell_type": "markdown",
   "metadata": {},
   "source": [
    "## The Good\n",
    "\n",
    "Hot take:\n",
    "PyLint is good actually!\n",
    "\n",
    "\"PyLint can save your life\"\n",
    "is an exaggeration,\n",
    "for the most part.\n",
    "But not as much as you might think!\n",
    "\n",
    "PyLint can keep you from\n",
    "*really*\n",
    "*really*\n",
    "hard to find,\n",
    "complicated,\n",
    "bugs.\n",
    "\n",
    "At worst,\n",
    "it will save you the time of a test run.\n",
    "At best,\n",
    "it can help you avoid complicated production mistakes."
   ]
  },
  {
   "cell_type": "markdown",
   "metadata": {
    "tags": []
   },
   "source": [
    "```{=latex}\n",
    "\\begin{frame}[fragile]\n",
    "\\frametitle{PyLint}\n",
    "\n",
    "\\pause\n",
    "...is good actually.\n",
    "\n",
    "\\end{frame}\n",
    "```"
   ]
  },
  {
   "cell_type": "markdown",
   "metadata": {
    "tags": []
   },
   "source": [
    "### Redefine function"
   ]
  },
  {
   "cell_type": "markdown",
   "metadata": {
    "tags": []
   },
   "source": [
    "```{=latex}\n",
    "\\begin{frame}[fragile]\n",
    "\\frametitle{Redefining functions}\n",
    "```"
   ]
  },
  {
   "cell_type": "code",
   "execution_count": 23,
   "metadata": {
    "tags": []
   },
   "outputs": [],
   "source": [
    "def test_add_small():\n",
    "    # Math, am I right?\n",
    "    assert 1 + 1 == 3\n",
    "    \n",
    "def test_add_large():\n",
    "    assert 5 + 6 == 11\n",
    "    \n",
    "def test_add_small():\n",
    "    assert 1 + 10 == 11"
   ]
  },
  {
   "cell_type": "markdown",
   "metadata": {
    "tags": []
   },
   "source": [
    "\n",
    "```{=latex}\n",
    "\\end{frame}\n",
    "```"
   ]
  },
  {
   "cell_type": "markdown",
   "metadata": {},
   "source": [
    "I...am embarassed to say how common this can be.\n",
    "Naming tests is weird:\n",
    "*nothing cares about the names*\n",
    "and there's often not a natural name."
   ]
  },
  {
   "cell_type": "markdown",
   "metadata": {
    "tags": []
   },
   "source": [
    "### Test works"
   ]
  },
  {
   "cell_type": "markdown",
   "metadata": {
    "tags": []
   },
   "source": [
    "```{=latex}\n",
    "\\begin{frame}[fragile]\n",
    "\\frametitle{Test works!}\n",
    "\n",
    "\\begin{lstlisting}\n",
    "collected 2 items                                                                         \n",
    "\n",
    "test.py .. \n",
    "2 passed \n",
    "\\end{lstlisting}\n",
    "```"
   ]
  },
  {
   "cell_type": "markdown",
   "metadata": {
    "tags": []
   },
   "source": [
    "\n",
    "```{=latex}\n",
    "\\end{frame}\n",
    "```"
   ]
  },
  {
   "cell_type": "markdown",
   "metadata": {},
   "source": [
    "But,\n",
    "and here is the kicker,\n",
    "if you override a name,\n",
    "the testing infrastructure will happily just skip over the test!"
   ]
  },
  {
   "cell_type": "markdown",
   "metadata": {},
   "source": [
    "In reality,\n",
    "these files can be hundreds of lines long,\n",
    "and the person adding the new test might not be aware\n",
    "of all the names.\n",
    "Unless someone is looking at test output carefully everything looks\n",
    "fine.\n",
    "\n",
    "Worst of all,\n",
    "the\n",
    "*addition of the overriding test*,\n",
    "the\n",
    "*breakage of the overridden test*,\n",
    "and the\n",
    "*problem that results in prod*\n",
    "can be apart by\n",
    "days,\n",
    "months,\n",
    "or even your years."
   ]
  },
  {
   "cell_type": "markdown",
   "metadata": {
    "tags": []
   },
   "source": [
    "### Pylint finds it"
   ]
  },
  {
   "cell_type": "markdown",
   "metadata": {
    "tags": []
   },
   "source": [
    "```{=latex}\n",
    "\\begin{frame}[fragile]\n",
    "\\frametitle{PyLint: The Good}\n",
    "\n",
    "\\begin{lstlisting}\n",
    "test.py:8:0: E0102: function already defined line 1\n",
    "     (function-redefined)\n",
    "\\end{lstlisting}\n",
    "\n",
    "\\end{frame}\n",
    "```"
   ]
  },
  {
   "cell_type": "markdown",
   "metadata": {},
   "source": [
    "But like a good friend,\n",
    "PyLint is there for you\n",
    "when the test becomes moo.\n",
    "Moo,\n",
    "like a cow's opinion:\n",
    "it doesn't matter."
   ]
  },
  {
   "cell_type": "markdown",
   "metadata": {},
   "source": [
    "## The Bad"
   ]
  },
  {
   "cell_type": "markdown",
   "metadata": {
    "tags": []
   },
   "source": [
    "```{=latex}\n",
    "\\begin{frame}[fragile]\n",
    "\\frametitle{PyLint: The Bad}\n",
    "```"
   ]
  },
  {
   "cell_type": "code",
   "execution_count": 22,
   "metadata": {},
   "outputs": [],
   "source": [
    "\"\"\"Inventory abstractions\"\"\"\n",
    "\n",
    "import attrs\n",
    "\n",
    "@attrs.define\n",
    "class Laptop:\n",
    "    \"\"\"A laptop\"\"\"\n",
    "    ident: str\n",
    "    cpu: str"
   ]
  },
  {
   "cell_type": "markdown",
   "metadata": {
    "tags": []
   },
   "source": [
    "\n",
    "```{=latex}\n",
    "\\end{frame}\n",
    "```"
   ]
  },
  {
   "cell_type": "markdown",
   "metadata": {},
   "source": [
    "But,\n",
    "like a 90s sitcom,\n",
    "the more you get into\n",
    "PyLint,\n",
    "the more it becomes problematic.\n",
    "\n",
    "This is completely reasonable code\n",
    "for an inventory modeling program.\n",
    "Yet,\n",
    "PyLint has opinions formed in the 90s,\n",
    "and is not afraid to state them as facts."
   ]
  },
  {
   "cell_type": "markdown",
   "metadata": {},
   "source": [
    "\n",
    "```{=latex}\n",
    "\\begin{frame}[fragile]\n",
    "\\frametitle{PyLint: The Bad}\n",
    "\n",
    "\\begin{lstlisting}\n",
    "$ pylint laptop.py | sed -n '/^laptop/s/[^ ]*: //p'\n",
    "R0903: Too few public methods (0/2) (too-few-public-methods)\n",
    "\\end{lstlisting}\n",
    "\n",
    "\\end{frame}\n",
    "```"
   ]
  },
  {
   "cell_type": "markdown",
   "metadata": {},
   "source": [
    "OK,\n",
    "PyLint.\n",
    "You do you."
   ]
  },
  {
   "cell_type": "markdown",
   "metadata": {},
   "source": [
    "## The Ugly"
   ]
  },
  {
   "cell_type": "markdown",
   "metadata": {
    "tags": []
   },
   "source": [
    "```{=latex}\n",
    "\\begin{frame}[fragile]\n",
    "\\frametitle{PyLint: The Ugly}\n",
    "\n",
    "\"People will just disable the whole check if it's too picky\"\n",
    "\n",
    "PyLint issue 6987, July 3rd, 2022\n",
    "\n",
    "\\end{frame}\n",
    "```"
   ]
  },
  {
   "cell_type": "markdown",
   "metadata": {},
   "source": [
    "Ever wanted to add your own\n",
    "unvetted opinion\n",
    "to a tool used by millions?\n",
    "PyLint has 12 million monthly downloads.\n",
    "\n",
    "The attitude it takes towards adding a test with potentially many false positives is\n",
    "\"eh\"."
   ]
  },
  {
   "cell_type": "markdown",
   "metadata": {},
   "source": [
    "## Summary"
   ]
  },
  {
   "cell_type": "markdown",
   "metadata": {
    "tags": []
   },
   "source": [
    "### Pin"
   ]
  },
  {
   "cell_type": "markdown",
   "metadata": {
    "tags": []
   },
   "source": [
    "```{=latex}\n",
    "\\begin{frame}[fragile]\n",
    "\\frametitle{Pin PyLint}\n",
    "\n",
    "Make sure to always use the same version \\pause\n",
    "\n",
    "...until you choose to upgrade!\n",
    "\n",
    "\\end{frame}\n",
    "```"
   ]
  },
  {
   "cell_type": "markdown",
   "metadata": {},
   "source": [
    "The first step is to\n",
    "*pin*\n",
    "the PyLint version.\n",
    "Your build,\n",
    "or\n",
    "CI,\n",
    "should not run the\n",
    "\"latest\":\n",
    "it should run the same version each time.\n",
    "\n",
    "Upgrade often,\n",
    "but always under your control."
   ]
  },
  {
   "cell_type": "markdown",
   "metadata": {
    "tags": []
   },
   "source": [
    "```{=latex}\n",
    "\\begin{frame}[fragile]\n",
    "\\frametitle{Pin PyLint: Loose}\n",
    "\n",
    "\\begin{lstlisting}\n",
    "# pyproject.toml\n",
    "\n",
    "[project.optional-dependencies]\n",
    "pylint = [\"pylint\"]\n",
    "\\end{lstlisting}\n",
    "\n",
    "\\end{frame}\n",
    "```"
   ]
  },
  {
   "cell_type": "code",
   "execution_count": 18,
   "metadata": {
    "tags": [
     "no_markdown"
    ]
   },
   "outputs": [],
   "source": [
    "from unittest import mock\n",
    "\n",
    "VERSIONS = nox = mock.MagicMock()"
   ]
  },
  {
   "cell_type": "markdown",
   "metadata": {
    "tags": []
   },
   "source": [
    "```{=latex}\n",
    "\\begin{frame}[fragile]\n",
    "\\frametitle{Pin PyLint: Strict}\n",
    "\n",
    "```"
   ]
  },
  {
   "cell_type": "code",
   "execution_count": 19,
   "metadata": {},
   "outputs": [],
   "source": [
    "# noxfile.py\n",
    "...\n",
    "@nox.session(python=VERSIONS[-1])\n",
    "def refresh_deps(session):\n",
    "    \"\"\"Refresh the requirements-*.txt files\"\"\"\n",
    "    session.install(\"pip-tools\")\n",
    "    for deps in [..., \"pylint\"]:\n",
    "        session.run(\n",
    "            \"pip-compile\",\n",
    "            \"--extra\",\n",
    "            deps,\n",
    "            \"pyproject.toml\",\n",
    "            \"--output-file\",\n",
    "            f\"requirements-{deps}.txt\",\n",
    "        )"
   ]
  },
  {
   "cell_type": "markdown",
   "metadata": {
    "tags": []
   },
   "source": [
    "```{=latex}\n",
    "\n",
    "\\pause\n",
    "...or use a service.\n",
    "\\end{frame}\n",
    "```"
   ]
  },
  {
   "cell_type": "markdown",
   "metadata": {},
   "source": [
    "PyLint is fine,\n",
    "but you need to interact with it carefully.\n",
    "Pin the PyLint version you use\n",
    "to avoid any surprises!"
   ]
  },
  {
   "cell_type": "markdown",
   "metadata": {
    "tags": []
   },
   "source": [
    "### A Few of My Favorite Things\n",
    "\n",
    "```{=latex}\n",
    "\\begin{frame}[fragile]\n",
    "\\frametitle{A few of my favorite things}\n",
    "```"
   ]
  },
  {
   "cell_type": "code",
   "execution_count": 20,
   "metadata": {},
   "outputs": [],
   "source": [
    "checkers = [\n",
    "    \"missing-class-docstring\",\n",
    "    \"missing-function-docstring\",\n",
    "    \"missing-module-docstring\",\n",
    "    \"function-redefined\",\n",
    "]\n"
   ]
  },
  {
   "cell_type": "markdown",
   "metadata": {
    "tags": []
   },
   "source": [
    "```{=latex}\n",
    "\\end{frame}\n",
    "```\n",
    "\n",
    "These are some of the ones I like.\n",
    "Enforce consistency in the project,\n",
    "avoid some obvious mistakes"
   ]
  },
  {
   "cell_type": "markdown",
   "metadata": {},
   "source": [
    "## Default deny"
   ]
  },
  {
   "cell_type": "markdown",
   "metadata": {
    "tags": []
   },
   "source": [
    "```{=latex}\n",
    "\\begin{frame}[fragile]\n",
    "\\frametitle{Default Deny}\n",
    "```"
   ]
  },
  {
   "cell_type": "markdown",
   "metadata": {},
   "source": [
    "```python\n",
    "# noxfile.py\n",
    "...\n",
    "@nox.session(python=\"3.10\")\n",
    "def lint(session):\n",
    "    files = [\"src/\", \"noxfile.py\"]\n",
    "    session.install(\"-r\", \"requirements-pylint.txt\")\n",
    "    session.install(\"-e\", \".\")\n",
    "    session.run(\n",
    "        \"pylint\",\n",
    "        \"--disable=all\",\n",
    "        *(f\"--enable={checker}\" for checker in checkers)\n",
    "        \"src\",\n",
    "    )\n",
    "```"
   ]
  },
  {
   "cell_type": "markdown",
   "metadata": {
    "tags": []
   },
   "source": [
    "```{=latex}\n",
    "\\end{frame}\n",
    "```"
   ]
  },
  {
   "cell_type": "markdown",
   "metadata": {
    "tags": []
   },
   "source": [
    "Disable all checks.\n",
    "Then enable ones that you think have a high\n",
    "value-to-false-positive\n",
    "ratio.\n",
    "(Not just false-negative-to-false-positive ratio!)"
   ]
  },
  {
   "cell_type": "markdown",
   "metadata": {
    "tags": []
   },
   "source": [
    "```{=latex}\n",
    "\\begin{frame}\n",
    "\\frametitle{PyLint}\n",
    "\n",
    "\\begin{itemize}\n",
    "\\item Keep the good: \\pause\n",
    "      CI \\pause\n",
    "      Checkers \\pause\n",
    "\\item Lose the bad:\n",
    "      \\pause Default deny\n",
    "      \\pause\n",
    "\\item Avoid the ugly: \\pause\n",
    "      Pin\n",
    "\\end{itemize}\n",
    "\n",
    "\\end{frame}\n",
    "```"
   ]
  },
  {
   "cell_type": "markdown",
   "metadata": {},
   "source": [
    "Take the good parts of PyLint:\n",
    "run it in CI to keep consistency,\n",
    "use the highest value checkers.\n",
    "\n",
    "Lose the bad parts of PyLint:\n",
    "default deny checkers.\n",
    "\n",
    "Avoid the ugly parts:\n",
    "pin the version to avoid surprises.\n",
    "\n",
    "Unlike the facts of life,\n",
    "here we get to only take the good parts!\n",
    "And there you have the facts of PyLint.\n",
    "\n",
    "\n",
    "\n",
    "\n"
   ]
  },
  {
   "cell_type": "markdown",
   "metadata": {},
   "source": [
    "```{=latex}\n",
    "\\end{document}\n",
    "```"
   ]
  }
 ],
 "metadata": {
  "kernelspec": {
   "display_name": "jupyter-devops",
   "language": "python",
   "name": "jupyter-devops-venv"
  },
  "language_info": {
   "codemirror_mode": {
    "name": "ipython",
    "version": 3
   },
   "file_extension": ".py",
   "mimetype": "text/x-python",
   "name": "python",
   "nbconvert_exporter": "python",
   "pygments_lexer": "ipython3",
   "version": "3.10.5"
  },
  "toc-autonumbering": false
 },
 "nbformat": 4,
 "nbformat_minor": 4
}
